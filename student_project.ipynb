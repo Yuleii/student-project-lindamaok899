{
 "cells": [
  {
   "cell_type": "markdown",
   "metadata": {},
   "source": [
    "# Replication Michael P. Keane & Kenneth I. Wopin"
   ]
  },
  {
   "cell_type": "markdown",
   "metadata": {},
   "source": [
    "This notebook replicates results from: \n",
    "\n",
    "Keane, M. P. & Wopin, W. I. (1997). [The career Decisions of Young Men.](https://www.jstor.org/stable/10.1086/262080)\n",
    " *Journal of Political Economy, 105(3): 473-552.*\n",
    "\n",
    "The above mentioned paper builds from a theoratical paper from:\n",
    "\n",
    "Keane, M. P. & Wopin, W. I., & Vytlacil, E. J. (1994). \n",
    "[The Solution and Estimation of Discrete Choice Dynamic Programming Models by Simulation and Interpolation: Monte Carlo Evidence.](https://www.jstor.org/stable/2109768)\n",
    " *The Review of Economics and Statistics, 76(4): 648-672.*\n",
    "\n",
    "For this purpose l rely on *respy*. Respy is an open-source Python package for the simulation and estimation of a prototypical finite-horizon discrete choice dynamic programming model.\n"
   ]
  },
  {
   "cell_type": "markdown",
   "metadata": {},
   "source": [
    "# Section 1: Background"
   ]
  },
  {
   "cell_type": "markdown",
   "metadata": {},
   "source": [
    "#### Groundwork \n",
    "\n",
    "This project builds upon collaboration and contributions to the *respy* and *estimagic* open source pacakges. In particular, l have worked with some of the open source contributors of these packages to develop parts of the code.\n",
    "\n",
    "For the *respy* package, l have integrated the results of a project l previously completed on [benchmarking various implementations of ols and iv ](https://github.com/lindamaok899/least_squares). This was done to drop all statsmodels dependencies in the package in favor of incorporating a faster method of calculating ols estimates. I have also integrated a root mean squared error (rmse) function in the package for the same purpose.\n",
    "\n",
    "For the *estimagic* package, l have worked on the documentation of the numerical optimisers used in the package. In particular, l have created reference dictionaries for the different arguments that relate to the various implemented numerical optimizers.\n",
    "\n",
    "For both packages and an additional project (*uncertainty quantification project*), l have also calculated standard errors for parameter estimates of likelihood models. More specifically, l write functions that construct the full covariance matrix of the estimated parameters. There are different ways to calculate those covariance matrices, but in all cases they are based on derivatives of the log likelihood function. I have also written a function that extracts the diagonal elements of these covariance matrices to contstuct a 1d array of containing the standard errors. After this, l have written a benchmarking module that compares the functions to the statsmodels output to ensure complete accuracy of the covariance matrices. Lastly, l have written tests to all the encorprated functions. The under-the-hood workings of this part of my assignment can be viewed in the estimagic repository under open source economics [here](https://github.com/OpenSourceEconomics/estimagic/tree/master/estimagic/inference). Subsequently, l will encorporate the neccesary functions for the replication in the auxilliary folder if neccesary.\n"
   ]
  },
  {
   "cell_type": "markdown",
   "metadata": {},
   "source": [
    "#### Authors' motivation\n",
    "\n",
    "This paper provides structural estimates of schooling, work and occupational choice decisions based on 11 years of observations on a sample of 1400 white young men from the 1979 youth cohort of the National Longitudinal Surveys of Labor Market Experience (NLSY). The authors ingeminate the importance of encorporating self selection for an accurate assessment of the differential productivity of human capital investment. In their paper, they extend earlier (prior to 1997) work done in the this field by considering self-selection in the three dimensions of schooling, work and occupational choice. More specifically, they extend the static deterministic setting of earlier models (Heckman and Sedlacek, 1985; Willis, 1986), each of which is an extension of the basic Roy (1951) framework, to a model in which decision making is sequential and the environment is uncertain.\n",
    "\n",
    "The structural approach in Keane and Wopin (1997) provides rigorous interpretations for the parameters that are estimated, which has several important implications for ex-ante policy evaluation such as:\n",
    "\n",
    "1) predicting the effect an intervention that provides college tuition subsidies has on college attendance rates and subsequent occupational choice decisions\n",
    "\n",
    "2) assessing the welfare effects of interventions on lifetime wealth and utility, allowing policy makers to draw distributional consequences of them \n",
    "\n",
    "To implement the model, the participants are assigned in each year to one of five discrete, mutually exclusive alternatives: attending school, working in a white collar occupation, working in a blue collar occupation, working in the military or engaging on home production."
   ]
  },
  {
   "cell_type": "markdown",
   "metadata": {},
   "source": [
    "#### Theoretical framework"
   ]
  },
  {
   "cell_type": "markdown",
   "metadata": {},
   "source": [
    "#### Causal Graph representation"
   ]
  },
  {
   "cell_type": "markdown",
   "metadata": {},
   "source": [
    "# Section 2: Descriptive statistics & visualisation"
   ]
  },
  {
   "cell_type": "markdown",
   "metadata": {},
   "source": [
    "#### Data loaading and pre-proccessing\n",
    "\n",
    "I first conduct some basic preperation of the data to increase readability."
   ]
  },
  {
   "cell_type": "code",
   "execution_count": 2,
   "metadata": {},
   "outputs": [],
   "source": [
    "import pandas as pd\n",
    "import numpy as np\n",
    "import seaborn as sns\n",
    "import matplotlib.pyplot as plt\n",
    "sns.set(style=\"darkgrid\")\n",
    "\n",
    "# Ensure proper formatting of the wage variable\n",
    "pd.options.display.float_format = '{:,.2f}'.format\n",
    "\n",
    "# Label and format the different columns\n",
    "columns = ['Identifier', 'Age', 'Schooling', 'Choice', 'Wage']\n",
    "dtype = {'Identifier': np.int, 'Age': np.int,  'Schooling': np.int,  'Choice': 'category'}\n",
    "\n",
    "# Read the original data file\n",
    "df = pd.DataFrame(np.genfromtxt('data/KW_97.raw'), columns=columns).astype(dtype)\n",
    "\n",
    "# Label the different choice categories\n",
    "df['Choice'].cat.categories = ['Schooling', 'Home', 'White', 'Blue', 'Military']\n",
    "\n",
    "# Set the index for easier interpretability\n",
    "df['Period'] = df['Age'] - 16\n",
    "df.set_index(['Identifier', 'Period'], inplace=True, drop=True)"
   ]
  },
  {
   "cell_type": "markdown",
   "metadata": {},
   "source": [
    "#### Data description\n",
    "\n",
    "All individuals enter the model initially at the same age and are then observed for a varying number of consecutive years. Each year, the individual's decision to work in either a white or blue collar occupation, attend school, enroll in the miliary, or remain at home is recorded. If the individual is working, the dataset potentially also contains that year's wage as a full-time equivalent."
   ]
  },
  {
   "cell_type": "code",
   "execution_count": 3,
   "metadata": {},
   "outputs": [
    {
     "data": {
      "text/html": [
       "<div>\n",
       "<style scoped>\n",
       "    .dataframe tbody tr th:only-of-type {\n",
       "        vertical-align: middle;\n",
       "    }\n",
       "\n",
       "    .dataframe tbody tr th {\n",
       "        vertical-align: top;\n",
       "    }\n",
       "\n",
       "    .dataframe thead th {\n",
       "        text-align: right;\n",
       "    }\n",
       "</style>\n",
       "<table border=\"1\" class=\"dataframe\">\n",
       "  <thead>\n",
       "    <tr style=\"text-align: right;\">\n",
       "      <th></th>\n",
       "      <th></th>\n",
       "      <th>Age</th>\n",
       "      <th>Schooling</th>\n",
       "      <th>Choice</th>\n",
       "      <th>Wage</th>\n",
       "    </tr>\n",
       "    <tr>\n",
       "      <th>Identifier</th>\n",
       "      <th>Period</th>\n",
       "      <th></th>\n",
       "      <th></th>\n",
       "      <th></th>\n",
       "      <th></th>\n",
       "    </tr>\n",
       "  </thead>\n",
       "  <tbody>\n",
       "    <tr>\n",
       "      <th rowspan=\"10\" valign=\"top\">6</th>\n",
       "      <th>0</th>\n",
       "      <td>16</td>\n",
       "      <td>11</td>\n",
       "      <td>Schooling</td>\n",
       "      <td>nan</td>\n",
       "    </tr>\n",
       "    <tr>\n",
       "      <th>1</th>\n",
       "      <td>17</td>\n",
       "      <td>12</td>\n",
       "      <td>Schooling</td>\n",
       "      <td>nan</td>\n",
       "    </tr>\n",
       "    <tr>\n",
       "      <th>2</th>\n",
       "      <td>18</td>\n",
       "      <td>13</td>\n",
       "      <td>Schooling</td>\n",
       "      <td>nan</td>\n",
       "    </tr>\n",
       "    <tr>\n",
       "      <th>3</th>\n",
       "      <td>19</td>\n",
       "      <td>14</td>\n",
       "      <td>Schooling</td>\n",
       "      <td>nan</td>\n",
       "    </tr>\n",
       "    <tr>\n",
       "      <th>4</th>\n",
       "      <td>20</td>\n",
       "      <td>15</td>\n",
       "      <td>Schooling</td>\n",
       "      <td>nan</td>\n",
       "    </tr>\n",
       "    <tr>\n",
       "      <th>5</th>\n",
       "      <td>21</td>\n",
       "      <td>16</td>\n",
       "      <td>Home</td>\n",
       "      <td>nan</td>\n",
       "    </tr>\n",
       "    <tr>\n",
       "      <th>6</th>\n",
       "      <td>22</td>\n",
       "      <td>16</td>\n",
       "      <td>White</td>\n",
       "      <td>14,062.67</td>\n",
       "    </tr>\n",
       "    <tr>\n",
       "      <th>7</th>\n",
       "      <td>23</td>\n",
       "      <td>16</td>\n",
       "      <td>White</td>\n",
       "      <td>15,921.17</td>\n",
       "    </tr>\n",
       "    <tr>\n",
       "      <th>8</th>\n",
       "      <td>24</td>\n",
       "      <td>16</td>\n",
       "      <td>White</td>\n",
       "      <td>18,602.73</td>\n",
       "    </tr>\n",
       "    <tr>\n",
       "      <th>9</th>\n",
       "      <td>25</td>\n",
       "      <td>16</td>\n",
       "      <td>White</td>\n",
       "      <td>19,693.95</td>\n",
       "    </tr>\n",
       "  </tbody>\n",
       "</table>\n",
       "</div>"
      ],
      "text/plain": [
       "                   Age  Schooling     Choice      Wage\n",
       "Identifier Period                                     \n",
       "6          0        16         11  Schooling       nan\n",
       "           1        17         12  Schooling       nan\n",
       "           2        18         13  Schooling       nan\n",
       "           3        19         14  Schooling       nan\n",
       "           4        20         15  Schooling       nan\n",
       "           5        21         16       Home       nan\n",
       "           6        22         16      White 14,062.67\n",
       "           7        23         16      White 15,921.17\n",
       "           8        24         16      White 18,602.73\n",
       "           9        25         16      White 19,693.95"
      ]
     },
     "execution_count": 3,
     "metadata": {},
     "output_type": "execute_result"
    }
   ],
   "source": [
    "# preview the data\n",
    "df.head(10)"
   ]
  },
  {
   "cell_type": "markdown",
   "metadata": {},
   "source": [
    "#### Sample size distribution"
   ]
  },
  {
   "cell_type": "code",
   "execution_count": 59,
   "metadata": {},
   "outputs": [],
   "source": [
    "# to be done"
   ]
  },
  {
   "cell_type": "markdown",
   "metadata": {},
   "source": [
    "#### Average real wage by occupation as in Table 4"
   ]
  },
  {
   "cell_type": "code",
   "execution_count": 8,
   "metadata": {},
   "outputs": [
    {
     "data": {
      "text/html": [
       "<div>\n",
       "<style scoped>\n",
       "    .dataframe tbody tr th:only-of-type {\n",
       "        vertical-align: middle;\n",
       "    }\n",
       "\n",
       "    .dataframe tbody tr th {\n",
       "        vertical-align: top;\n",
       "    }\n",
       "\n",
       "    .dataframe thead th {\n",
       "        text-align: right;\n",
       "    }\n",
       "</style>\n",
       "<table border=\"1\" class=\"dataframe\">\n",
       "  <thead>\n",
       "    <tr style=\"text-align: right;\">\n",
       "      <th>Choice</th>\n",
       "      <th>All</th>\n",
       "      <th>White</th>\n",
       "      <th>Blue</th>\n",
       "      <th>Military</th>\n",
       "    </tr>\n",
       "    <tr>\n",
       "      <th>Age</th>\n",
       "      <th></th>\n",
       "      <th></th>\n",
       "      <th></th>\n",
       "      <th></th>\n",
       "    </tr>\n",
       "  </thead>\n",
       "  <tbody>\n",
       "    <tr>\n",
       "      <th>16</th>\n",
       "      <td>10,217.74</td>\n",
       "      <td>9,320.76</td>\n",
       "      <td>10,286.74</td>\n",
       "      <td>nan</td>\n",
       "    </tr>\n",
       "    <tr>\n",
       "      <th>17</th>\n",
       "      <td>11,036.60</td>\n",
       "      <td>10,049.76</td>\n",
       "      <td>11,572.89</td>\n",
       "      <td>9,005.36</td>\n",
       "    </tr>\n",
       "    <tr>\n",
       "      <th>18</th>\n",
       "      <td>12,060.75</td>\n",
       "      <td>11,775.34</td>\n",
       "      <td>12,603.82</td>\n",
       "      <td>10,171.87</td>\n",
       "    </tr>\n",
       "    <tr>\n",
       "      <th>19</th>\n",
       "      <td>12,246.68</td>\n",
       "      <td>12,376.42</td>\n",
       "      <td>12,949.84</td>\n",
       "      <td>9,714.60</td>\n",
       "    </tr>\n",
       "    <tr>\n",
       "      <th>20</th>\n",
       "      <td>13,635.87</td>\n",
       "      <td>13,824.01</td>\n",
       "      <td>14,363.66</td>\n",
       "      <td>10,852.51</td>\n",
       "    </tr>\n",
       "    <tr>\n",
       "      <th>21</th>\n",
       "      <td>14,977.00</td>\n",
       "      <td>15,578.14</td>\n",
       "      <td>15,313.45</td>\n",
       "      <td>12,619.37</td>\n",
       "    </tr>\n",
       "    <tr>\n",
       "      <th>22</th>\n",
       "      <td>17,561.28</td>\n",
       "      <td>20,236.08</td>\n",
       "      <td>16,947.90</td>\n",
       "      <td>13,771.56</td>\n",
       "    </tr>\n",
       "    <tr>\n",
       "      <th>23</th>\n",
       "      <td>18,719.84</td>\n",
       "      <td>20,745.56</td>\n",
       "      <td>17,884.95</td>\n",
       "      <td>14,868.65</td>\n",
       "    </tr>\n",
       "    <tr>\n",
       "      <th>24</th>\n",
       "      <td>20,942.42</td>\n",
       "      <td>24,066.64</td>\n",
       "      <td>19,245.19</td>\n",
       "      <td>15,910.84</td>\n",
       "    </tr>\n",
       "    <tr>\n",
       "      <th>25</th>\n",
       "      <td>22,754.54</td>\n",
       "      <td>24,899.23</td>\n",
       "      <td>21,473.31</td>\n",
       "      <td>17,134.46</td>\n",
       "    </tr>\n",
       "    <tr>\n",
       "      <th>26</th>\n",
       "      <td>25,390.90</td>\n",
       "      <td>32,756.04</td>\n",
       "      <td>20,738.91</td>\n",
       "      <td>25,216.83</td>\n",
       "    </tr>\n",
       "    <tr>\n",
       "      <th>All</th>\n",
       "      <td>17,115.60</td>\n",
       "      <td>20,295.00</td>\n",
       "      <td>16,436.96</td>\n",
       "      <td>12,255.75</td>\n",
       "    </tr>\n",
       "  </tbody>\n",
       "</table>\n",
       "</div>"
      ],
      "text/plain": [
       "Choice       All     White      Blue  Military\n",
       "Age                                           \n",
       "16     10,217.74  9,320.76 10,286.74       nan\n",
       "17     11,036.60 10,049.76 11,572.89  9,005.36\n",
       "18     12,060.75 11,775.34 12,603.82 10,171.87\n",
       "19     12,246.68 12,376.42 12,949.84  9,714.60\n",
       "20     13,635.87 13,824.01 14,363.66 10,852.51\n",
       "21     14,977.00 15,578.14 15,313.45 12,619.37\n",
       "22     17,561.28 20,236.08 16,947.90 13,771.56\n",
       "23     18,719.84 20,745.56 17,884.95 14,868.65\n",
       "24     20,942.42 24,066.64 19,245.19 15,910.84\n",
       "25     22,754.54 24,899.23 21,473.31 17,134.46\n",
       "26     25,390.90 32,756.04 20,738.91 25,216.83\n",
       "All    17,115.60 20,295.00 16,436.96 12,255.75"
      ]
     },
     "execution_count": 8,
     "metadata": {},
     "output_type": "execute_result"
    }
   ],
   "source": [
    "tab = pd.crosstab(index=df['Age'], columns=df['Choice'], values=df['Wage'], aggfunc='mean', margins=True)\n",
    "tab[['All', 'White', 'Blue', 'Military']]"
   ]
  },
  {
   "cell_type": "markdown",
   "metadata": {},
   "source": [
    "To visualise this in plot form, we can plot the results as below:"
   ]
  },
  {
   "cell_type": "code",
   "execution_count": 51,
   "metadata": {},
   "outputs": [
    {
     "data": {
      "image/png": "[encoded data removed]",
      "text/plain": [
       "<Figure size 432x288 with 1 Axes>"
      ]
     },
     "metadata": {
      "needs_background": "light"
     },
     "output_type": "display_data"
    }
   ],
   "source": [
    "tab.plot(kind='bar', stacked=False, linewidth=2.0)\n",
    "plt.show()"
   ]
  },
  {
   "cell_type": "markdown",
   "metadata": {},
   "source": [
    "#### Average age by choice"
   ]
  },
  {
   "cell_type": "code",
   "execution_count": 28,
   "metadata": {},
   "outputs": [
    {
     "data": {
      "image/png": "[encoded data removed]",
      "text/plain": [
       "<Figure size 360x360 with 1 Axes>"
      ]
     },
     "metadata": {
      "needs_background": "light"
     },
     "output_type": "display_data"
    }
   ],
   "source": [
    "sns.catplot(x=\"Choice\", y=\"Age\", kind=\"box\", data=df)\n",
    "plt.show()"
   ]
  },
  {
   "cell_type": "markdown",
   "metadata": {},
   "source": [
    "#### Average school attainment by choice"
   ]
  },
  {
   "cell_type": "code",
   "execution_count": 26,
   "metadata": {},
   "outputs": [
    {
     "data": {
      "image/png": "[encoded data removed]",
      "text/plain": [
       "<Figure size 360x360 with 1 Axes>"
      ]
     },
     "metadata": {
      "needs_background": "light"
     },
     "output_type": "display_data"
    }
   ],
   "source": [
    "sns.catplot(x=\"Choice\", y=\"Schooling\", kind=\"box\", data=df)\n",
    "plt.show()"
   ]
  },
  {
   "cell_type": "markdown",
   "metadata": {},
   "source": [
    "#### Share of individuals across the different choices as in Table 1"
   ]
  },
  {
   "cell_type": "code",
   "execution_count": 34,
   "metadata": {},
   "outputs": [
    {
     "data": {
      "text/html": [
       "<div>\n",
       "<style scoped>\n",
       "    .dataframe tbody tr th:only-of-type {\n",
       "        vertical-align: middle;\n",
       "    }\n",
       "\n",
       "    .dataframe tbody tr th {\n",
       "        vertical-align: top;\n",
       "    }\n",
       "\n",
       "    .dataframe thead th {\n",
       "        text-align: right;\n",
       "    }\n",
       "</style>\n",
       "<table border=\"1\" class=\"dataframe\">\n",
       "  <thead>\n",
       "    <tr style=\"text-align: right;\">\n",
       "      <th>Choice</th>\n",
       "      <th>Schooling</th>\n",
       "      <th>Home</th>\n",
       "      <th>White</th>\n",
       "      <th>Blue</th>\n",
       "      <th>Military</th>\n",
       "      <th>All</th>\n",
       "    </tr>\n",
       "    <tr>\n",
       "      <th>Age</th>\n",
       "      <th></th>\n",
       "      <th></th>\n",
       "      <th></th>\n",
       "      <th></th>\n",
       "      <th></th>\n",
       "      <th></th>\n",
       "    </tr>\n",
       "  </thead>\n",
       "  <tbody>\n",
       "    <tr>\n",
       "      <th>16</th>\n",
       "      <td>1178</td>\n",
       "      <td>145</td>\n",
       "      <td>4</td>\n",
       "      <td>45</td>\n",
       "      <td>1</td>\n",
       "      <td>1373</td>\n",
       "    </tr>\n",
       "    <tr>\n",
       "      <th>17</th>\n",
       "      <td>1014</td>\n",
       "      <td>197</td>\n",
       "      <td>15</td>\n",
       "      <td>113</td>\n",
       "      <td>20</td>\n",
       "      <td>1359</td>\n",
       "    </tr>\n",
       "    <tr>\n",
       "      <th>18</th>\n",
       "      <td>561</td>\n",
       "      <td>296</td>\n",
       "      <td>92</td>\n",
       "      <td>331</td>\n",
       "      <td>70</td>\n",
       "      <td>1350</td>\n",
       "    </tr>\n",
       "    <tr>\n",
       "      <th>19</th>\n",
       "      <td>420</td>\n",
       "      <td>293</td>\n",
       "      <td>115</td>\n",
       "      <td>406</td>\n",
       "      <td>107</td>\n",
       "      <td>1341</td>\n",
       "    </tr>\n",
       "    <tr>\n",
       "      <th>20</th>\n",
       "      <td>341</td>\n",
       "      <td>273</td>\n",
       "      <td>149</td>\n",
       "      <td>454</td>\n",
       "      <td>113</td>\n",
       "      <td>1330</td>\n",
       "    </tr>\n",
       "    <tr>\n",
       "      <th>21</th>\n",
       "      <td>275</td>\n",
       "      <td>257</td>\n",
       "      <td>170</td>\n",
       "      <td>498</td>\n",
       "      <td>106</td>\n",
       "      <td>1306</td>\n",
       "    </tr>\n",
       "    <tr>\n",
       "      <th>22</th>\n",
       "      <td>169</td>\n",
       "      <td>212</td>\n",
       "      <td>256</td>\n",
       "      <td>559</td>\n",
       "      <td>90</td>\n",
       "      <td>1286</td>\n",
       "    </tr>\n",
       "    <tr>\n",
       "      <th>23</th>\n",
       "      <td>105</td>\n",
       "      <td>185</td>\n",
       "      <td>336</td>\n",
       "      <td>546</td>\n",
       "      <td>68</td>\n",
       "      <td>1240</td>\n",
       "    </tr>\n",
       "    <tr>\n",
       "      <th>24</th>\n",
       "      <td>65</td>\n",
       "      <td>112</td>\n",
       "      <td>284</td>\n",
       "      <td>416</td>\n",
       "      <td>44</td>\n",
       "      <td>921</td>\n",
       "    </tr>\n",
       "    <tr>\n",
       "      <th>25</th>\n",
       "      <td>24</td>\n",
       "      <td>61</td>\n",
       "      <td>215</td>\n",
       "      <td>267</td>\n",
       "      <td>24</td>\n",
       "      <td>591</td>\n",
       "    </tr>\n",
       "    <tr>\n",
       "      <th>26</th>\n",
       "      <td>13</td>\n",
       "      <td>32</td>\n",
       "      <td>88</td>\n",
       "      <td>127</td>\n",
       "      <td>2</td>\n",
       "      <td>262</td>\n",
       "    </tr>\n",
       "    <tr>\n",
       "      <th>All</th>\n",
       "      <td>4165</td>\n",
       "      <td>2063</td>\n",
       "      <td>1724</td>\n",
       "      <td>3762</td>\n",
       "      <td>645</td>\n",
       "      <td>12359</td>\n",
       "    </tr>\n",
       "  </tbody>\n",
       "</table>\n",
       "</div>"
      ],
      "text/plain": [
       "Choice  Schooling  Home  White  Blue  Military    All\n",
       "Age                                                  \n",
       "16           1178   145      4    45         1   1373\n",
       "17           1014   197     15   113        20   1359\n",
       "18            561   296     92   331        70   1350\n",
       "19            420   293    115   406       107   1341\n",
       "20            341   273    149   454       113   1330\n",
       "21            275   257    170   498       106   1306\n",
       "22            169   212    256   559        90   1286\n",
       "23            105   185    336   546        68   1240\n",
       "24             65   112    284   416        44    921\n",
       "25             24    61    215   267        24    591\n",
       "26             13    32     88   127         2    262\n",
       "All          4165  2063   1724  3762       645  12359"
      ]
     },
     "execution_count": 34,
     "metadata": {},
     "output_type": "execute_result"
    }
   ],
   "source": [
    "table = pd.crosstab(index=df['Age'], columns=df['Choice'], margins=True)\n",
    "table"
   ]
  },
  {
   "cell_type": "markdown",
   "metadata": {},
   "source": [
    "Distribution of individuals across different alternatives as plot:"
   ]
  },
  {
   "cell_type": "code",
   "execution_count": 53,
   "metadata": {},
   "outputs": [
    {
     "data": {
      "image/png": "[encoded data removed]",
      "text/plain": [
       "<Figure size 432x288 with 1 Axes>"
      ]
     },
     "metadata": {
      "needs_background": "light"
     },
     "output_type": "display_data"
    }
   ],
   "source": [
    "table.plot(kind='bar', stacked=False, linewidth=1.0)\n",
    "plt.show()"
   ]
  },
  {
   "cell_type": "markdown",
   "metadata": {},
   "source": [
    "## Section 3: Replication of main result"
   ]
  },
  {
   "cell_type": "markdown",
   "metadata": {},
   "source": [
    "#### Contribution to replicating KW1997\n",
    "\n",
    "Here l make use of the functions l have written that calculate covariance matrices for hessian and jacobian matrices. These functions have since been encorporated into the [estimagic/inference](https://github.com/OpenSourceEconomics/estimagic/tree/master/estimagic/inference) folder for calculating standard errors. The tests for these functions can also be found in the [estimagic/tests/inference](https://github.com/OpenSourceEconomics/estimagic/tree/master/estimagic/tests/inference) folder."
   ]
  },
  {
   "cell_type": "markdown",
   "metadata": {},
   "source": [
    "## Section 4: Discussion & Conclusion"
   ]
  },
  {
   "cell_type": "markdown",
   "metadata": {},
   "source": [
    "## References"
   ]
  }
 ],
 "metadata": {
  "kernelspec": {
   "display_name": "Python 3",
   "language": "python",
   "name": "python3"
  },
  "language_info": {
   "codemirror_mode": {
    "name": "ipython",
    "version": 3
   },
   "file_extension": ".py",
   "mimetype": "text/x-python",
   "name": "python",
   "nbconvert_exporter": "python",
   "pygments_lexer": "ipython3",
   "version": "3.7.3"
  }
 },
 "nbformat": 4,
 "nbformat_minor": 2
}
